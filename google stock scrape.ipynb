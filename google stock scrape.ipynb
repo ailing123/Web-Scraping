{
 "cells": [
  {
   "cell_type": "code",
   "execution_count": 2,
   "metadata": {},
   "outputs": [],
   "source": [
    "import requests\n",
    "from bs4 import BeautifulSoup"
   ]
  },
  {
   "cell_type": "code",
   "execution_count": 5,
   "metadata": {},
   "outputs": [],
   "source": [
    "def get_web_page(url, stock_id):\n",
    "     header = {'User-Agent': 'Mozilla/5.0 (Windows NT 10.0; WOW64)'\n",
    "               'AppleWebKit/537.36 (KHTML, like Gecko)' \n",
    "               'Chrome/50.0.2661.102 Safari/537.36'} \n",
    "     resp=requests.get(url+stock_id , headers=header)\n",
    "     if resp.status_code !=200:\n",
    "            print(\"Invalid url\")\n",
    "            return none\n",
    "     else:\n",
    "        return resp.text\n",
    "     "
   ]
  },
  {
   "cell_type": "code",
   "execution_count": 15,
   "metadata": {},
   "outputs": [],
   "source": [
    "def get_stock_info(info):\n",
    "    soup=BeautifulSoup(info, 'html5lib')\n",
    "    \n",
    "    # create an empty dictionary\n",
    "    stock=dict()\n",
    "    \n",
    "    sections=soup.find_all('g-card-section')\n",
    "    \n",
    "    stock['name']=sections[1].div.text\n",
    "    spans=sections[1].find_all('div', recursive=False)[1].find_all('span', recursive=False)\n",
    "    stock['current_price']=spans[0].text\n",
    "    stock['price_change']=spans[1].text\n",
    "    \n",
    "    for table in sections[3].find_all('table'):\n",
    "        for tr in table.find_all('tr')[:3]:\n",
    "            key=tr.find_all('td')[0].text.lower().strip()\n",
    "            value=tr.find_all('td')[1].text.strip()\n",
    "            stock[key]=value\n",
    "    \n",
    "    return stock\n",
    "        "
   ]
  },
  {
   "cell_type": "code",
   "execution_count": 18,
   "metadata": {},
   "outputs": [
    {
     "name": "stdout",
     "output_type": "stream",
     "text": [
      "name 台灣積體電路製造TPE: 2330\n",
      "current_price 238.00 TWD\n",
      "price_change +2.50 (1.06%)\n",
      "開盤 235.50\n",
      "最高 238.50\n",
      "最低 232.00\n",
      "殖利率 3.36%\n",
      "上次收盤價 235.50\n",
      "52 週高點 286.00\n"
     ]
    }
   ],
   "source": [
    "url='https://www.google.com/search?q='\n",
    "web_page=get_web_page(url,'TPE:2330')\n",
    "if web_page:\n",
    "    stock=get_stock_info(web_page)\n",
    "    for key , value in stock.items():\n",
    "        print(key,value)"
   ]
  },
  {
   "cell_type": "code",
   "execution_count": null,
   "metadata": {},
   "outputs": [],
   "source": []
  }
 ],
 "metadata": {
  "kernelspec": {
   "display_name": "Python 3",
   "language": "python",
   "name": "python3"
  },
  "language_info": {
   "codemirror_mode": {
    "name": "ipython",
    "version": 3
   },
   "file_extension": ".py",
   "mimetype": "text/x-python",
   "name": "python",
   "nbconvert_exporter": "python",
   "pygments_lexer": "ipython3",
   "version": "3.7.3"
  }
 },
 "nbformat": 4,
 "nbformat_minor": 2
}
